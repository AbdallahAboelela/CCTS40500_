{
 "cells": [
  {
   "cell_type": "markdown",
   "metadata": {},
   "source": [
    "# CCTS 40500: ML Midterm\n",
    "### Abdallah Aboelela"
   ]
  },
  {
   "cell_type": "code",
   "execution_count": 98,
   "metadata": {},
   "outputs": [],
   "source": [
    "import pandas as pd \n",
    "import numpy as np\n",
    "import os\n",
    "import csv\n",
    "import random\n",
    "\n",
    "from sklearn.model_selection import train_test_split\n",
    "from sklearn.naive_bayes import GaussianNB\n",
    "from sklearn.tree import DecisionTreeClassifier\n",
    "from sklearn.ensemble import RandomForestClassifier\n",
    "from sklearn.svm import SVC\n",
    "from sklearn.linear_model import LinearRegression\n",
    "from sklearn.metrics import roc_auc_score, roc_curve\n",
    "from sklearn.preprocessing import LabelEncoder"
   ]
  },
  {
   "cell_type": "markdown",
   "metadata": {},
   "source": [
    "# Summary\n",
    "#### Exercise A.\n",
    "#### Exercise B.\n",
    "#### Exercise C.\n",
    "#### Exercise D.\n",
    "#### Exercise E.\n",
    "#### Exercise F."
   ]
  },
  {
   "cell_type": "markdown",
   "metadata": {},
   "source": [
    "# Questions A/B\n",
    "#### Predict POS for Males and Females using infectious disease history\n",
    "\n",
    "Here, we will attempt to predict POS using four models (Decision Tree, Random Forest, Naive Bayes, and Linear Regression, and based on the AUC and ROC curve create a model that randomly chooses between them."
   ]
  },
  {
   "cell_type": "code",
   "execution_count": null,
   "metadata": {},
   "outputs": [],
   "source": [
    "# Contains cols sex, diagnosis, state, county, functions in appendix\n",
    "infectious, le = encode(read_file('data/Infectious'))"
   ]
  },
  {
   "cell_type": "code",
   "execution_count": null,
   "metadata": {},
   "outputs": [],
   "source": [
    "#  Using label encoder values printed above to filter by gender\n",
    "infectious_m = infectious[infectious.sex == le.index('M')]\n",
    "infectious_f = infectious[infectious.sex == le.index('F')]\n",
    "\n",
    "mX_train, mX_test, my_train, my_test = train_test_split(infectious_m.iloc[:, 1:].drop('diagnosis', axis = 1), \n",
    "                                                        infectious_m.diagnosis, random_state = 42)\n",
    "\n",
    "fX_train, fX_test, fy_train, fy_test = train_test_split(infectious_f.iloc[:, 1:].drop('diagnosis', axis = 1), \n",
    "                                                        infectious_f.diagnosis, random_state = 42)"
   ]
  },
  {
   "cell_type": "code",
   "execution_count": 10,
   "metadata": {},
   "outputs": [],
   "source": [
    "nb = GaussianNB()\n",
    "dt = DecisionTreeClassifier()\n",
    "rf = RandomForestClassifier(n_estimators = 100)\n",
    "reg = LinearRegression()\n",
    "\n",
    "classifiers = [nb, dt, rf, reg]\n",
    "names = ['NB', 'DT', 'RF', 'LinReg']\n",
    "\n",
    "cols = ['clf','M', 'F']\n",
    "rows = []\n",
    "\n",
    "for i, clf in enumerate(classifiers):\n",
    "    clf.fit(mX_train, my_train)\n",
    "    y_pred = clf.predict(mX_test)\n",
    "    m_auc = roc_auc_score(my_test, y_pred)\n",
    "    \n",
    "    clf.fit(fX_train, fy_train)\n",
    "    y_pred = clf.predict(fX_test)\n",
    "    f_auc = roc_auc_score(fy_test, y_pred)\n",
    "    \n",
    "    rows.append([names[i], m_auc, f_auc])\n",
    "\n",
    "infectious_clfs = pd.DataFrame(rows, columns = cols).set_index('clf')"
   ]
  },
  {
   "cell_type": "code",
   "execution_count": 11,
   "metadata": {},
   "outputs": [
    {
     "data": {
      "text/html": [
       "<div>\n",
       "<style scoped>\n",
       "    .dataframe tbody tr th:only-of-type {\n",
       "        vertical-align: middle;\n",
       "    }\n",
       "\n",
       "    .dataframe tbody tr th {\n",
       "        vertical-align: top;\n",
       "    }\n",
       "\n",
       "    .dataframe thead th {\n",
       "        text-align: right;\n",
       "    }\n",
       "</style>\n",
       "<table border=\"1\" class=\"dataframe\">\n",
       "  <thead>\n",
       "    <tr style=\"text-align: right;\">\n",
       "      <th></th>\n",
       "      <th>M</th>\n",
       "      <th>F</th>\n",
       "    </tr>\n",
       "    <tr>\n",
       "      <th>clf</th>\n",
       "      <th></th>\n",
       "      <th></th>\n",
       "    </tr>\n",
       "  </thead>\n",
       "  <tbody>\n",
       "    <tr>\n",
       "      <th>NB</th>\n",
       "      <td>0.582018</td>\n",
       "      <td>0.592048</td>\n",
       "    </tr>\n",
       "    <tr>\n",
       "      <th>DT</th>\n",
       "      <td>0.610466</td>\n",
       "      <td>0.675998</td>\n",
       "    </tr>\n",
       "    <tr>\n",
       "      <th>RF</th>\n",
       "      <td>0.581633</td>\n",
       "      <td>0.696429</td>\n",
       "    </tr>\n",
       "    <tr>\n",
       "      <th>LinReg</th>\n",
       "      <td>0.680163</td>\n",
       "      <td>0.713290</td>\n",
       "    </tr>\n",
       "  </tbody>\n",
       "</table>\n",
       "</div>"
      ],
      "text/plain": [
       "               M         F\n",
       "clf                       \n",
       "NB      0.582018  0.592048\n",
       "DT      0.610466  0.675998\n",
       "RF      0.581633  0.696429\n",
       "LinReg  0.680163  0.713290"
      ]
     },
     "execution_count": 11,
     "metadata": {},
     "output_type": "execute_result"
    }
   ],
   "source": [
    "infectious_clfs"
   ]
  },
  {
   "cell_type": "markdown",
   "metadata": {},
   "source": [
    "Across the board, we can see that it is easier to predict autism diagnosis for women than it is for men, and that a linear regression is particularly good, and crosses the 65% AUC boundry in both cases. Decision Tree and Random Forest also work well for women."
   ]
  },
  {
   "cell_type": "markdown",
   "metadata": {},
   "source": [
    "# Questions C/D/E\n",
    "#### Predict POS for Males/Females using any/all combination of diseases using weeks up to 100, 150, and 200 and identify the most predictive diseases\n",
    "\n",
    "Strategy: Run the four predictive methods separately by gender, disease, and number of weeks considered, to identify which are best. Then, we will combine the most useful diseases into one merged df on c_id, and create a combined classifier that chooses between the best classifiers."
   ]
  },
  {
   "cell_type": "markdown",
   "metadata": {},
   "source": [
    "There are two outcomes of the below code:\n",
    "1. A dataframe with information on the AUC of each of four models applied to each disease, each number of weeks considered, and each gender  \n",
    "2. A dictionary with the true and predicted values for each of the above"
   ]
  },
  {
   "cell_type": "code",
   "execution_count": 12,
   "metadata": {
    "collapsed": true
   },
   "outputs": [
    {
     "name": "stdout",
     "output_type": "stream",
     "text": [
      "['Musculoskeletal', 'NB', 100, 0.5944175760079714, 0.5140382317801673]\n",
      "['Musculoskeletal', 'NB', 150, 0.5991080759229105, 0.5385304659498208]\n",
      "['Musculoskeletal', 'NB', 200, 0.6205677206114663, 0.48805256869772995]\n",
      "['Musculoskeletal', 'DT', 100, 0.5164289012564707, 0.5830346475507765]\n",
      "['Musculoskeletal', 'DT', 150, 0.5573917904099933, 0.5818399044205496]\n",
      "['Musculoskeletal', 'DT', 200, 0.5370500887063455, 0.5818399044205496]\n",
      "['Musculoskeletal', 'RF', 100, 0.5217391304347826, 0.5833333333333334]\n",
      "['Musculoskeletal', 'RF', 150, 0.5217391304347826, 0.5833333333333334]\n",
      "['Musculoskeletal', 'RF', 200, 0.5217391304347826, 0.5833333333333334]\n",
      "['Musculoskeletal', 'LinReg', 100, 0.6311517243055387, 0.6814516129032258]\n",
      "['Musculoskeletal', 'LinReg', 150, 0.5606484069312466, 0.5457487056949423]\n",
      "['Musculoskeletal', 'LinReg', 200, 0.643072398959827, 0.5632218239745121]\n",
      "['Development', 'NB', 100, 0.49324549447220967, 0.5809165771571786]\n",
      "['Development', 'NB', 150, 0.47946388005452073, 0.6215538847117794]\n",
      "['Development', 'NB', 200, 0.5652127820687566, 0.6754982694832319]\n",
      "['Development', 'DT', 100, 0.6030440708768742, 0.6618331543143573]\n",
      "['Development', 'DT', 150, 0.5826896865061336, 0.6062775987588018]\n",
      "['Development', 'DT', 200, 0.608844464637286, 0.6057405418307674]\n",
      "['Development', 'RF', 100, 0.5801756777222474, 0.6111111111111112]\n",
      "['Development', 'RF', 150, 0.5801756777222474, 0.6105740541830769]\n",
      "['Development', 'RF', 200, 0.5806451612903226, 0.6111111111111112]\n",
      "['Development', 'LinReg', 100, 0.5911252461002574, 0.6162429884234395]\n",
      "['Development', 'LinReg', 150, 0.6149628956534908, 0.6831364124597207]\n",
      "['Development', 'LinReg', 200, 0.5988187187641981, 0.6326530612244898]\n",
      "['Metabolic', 'NB', 100, 0.6161417322834646, 0.5808457711442786]\n",
      "['Metabolic', 'NB', 150, 0.6200787401574803, 0.6274875621890548]\n",
      "['Metabolic', 'NB', 200, 0.639763779527559, 0.6274875621890548]\n",
      "['Metabolic', 'DT', 100, 0.4921259842519685, 0.5721393034825871]\n",
      "['Metabolic', 'DT', 150, 0.48031496062992124, 0.5833333333333334]\n",
      "['Metabolic', 'DT', 200, 0.48425196850393704, 0.5833333333333334]\n",
      "['Metabolic', 'RF', 100, 0.5, 0.5833333333333334]\n",
      "['Metabolic', 'RF', 150, 0.5, 0.5833333333333334]\n",
      "['Metabolic', 'RF', 200, 0.5, 0.5833333333333334]\n",
      "['Metabolic', 'LinReg', 100, 0.5354330708661417, 0.6461442786069652]\n",
      "['Metabolic', 'LinReg', 150, 0.5078740157480315, 0.6735074626865671]\n",
      "['Metabolic', 'LinReg', 200, 0.45669291338582674, 0.5503731343283582]\n",
      "['Neoplastic', 'NB', 100, 0.6332179930795847, 0.6870437956204379]\n",
      "['Neoplastic', 'NB', 150, 0.6410034602076125, 0.4917883211678832]\n",
      "['Neoplastic', 'NB', 200, 0.6410034602076125, 0.4917883211678832]\n",
      "['Neoplastic', 'DT', 100, 0.7474048442906576, 0.4972627737226277]\n",
      "['Neoplastic', 'DT', 150, 0.7448096885813148, 0.4981751824817518]\n",
      "['Neoplastic', 'DT', 200, 0.7448096885813148, 0.4981751824817518]\n",
      "['Neoplastic', 'RF', 100, 0.75, 0.5]\n",
      "['Neoplastic', 'RF', 150, 0.75, 0.5]\n",
      "['Neoplastic', 'RF', 200, 0.75, 0.5]\n",
      "['Neoplastic', 'LinReg', 100, 0.7335640138408304, 0.5045620437956204]\n",
      "['Neoplastic', 'LinReg', 150, 0.7210207612456747, 0.3499087591240876]\n",
      "['Neoplastic', 'LinReg', 200, 0.735726643598616, 0.6281934306569342]\n",
      "['Hepatic', 'NB', 100, 0.2195121951219512, None]\n",
      "['Hepatic', 'NB', 150, 0.2682926829268293, None]\n",
      "['Hepatic', 'NB', 200, 0.3902439024390244, None]\n",
      "['Hepatic', 'DT', 100, 0.4878048780487805, None]\n",
      "['Hepatic', 'DT', 150, 0.4878048780487805, None]\n",
      "['Hepatic', 'DT', 200, 0.5, None]\n",
      "['Hepatic', 'RF', 100, 0.5, None]\n",
      "['Hepatic', 'RF', 150, 0.5, None]\n",
      "['Hepatic', 'RF', 200, 0.5, None]\n",
      "['Hepatic', 'LinReg', 100, 0.7804878048780488, None]\n",
      "['Hepatic', 'LinReg', 150, 0.7804878048780488, None]\n",
      "['Hepatic', 'LinReg', 200, 0.926829268292683, None]\n",
      "['Digestive', 'NB', 100, 0.5160646161182642, 0.42375071797817354]\n",
      "['Digestive', 'NB', 150, 0.5035467334287077, 0.42547386559448597]\n",
      "['Digestive', 'NB', 200, 0.5213400095374344, 0.4180427914991384]\n",
      "['Digestive', 'DT', 100, 0.5352288984263233, 0.4971280873061459]\n",
      "['Digestive', 'DT', 150, 0.5191940867906533, 0.49684089603676046]\n",
      "['Digestive', 'DT', 200, 0.5301323319027181, 0.5593408960367605]\n",
      "['Digestive', 'RF', 100, 0.5277777777777778, 0.5]\n",
      "['Digestive', 'RF', 150, 0.5277777777777778, 0.5]\n",
      "['Digestive', 'RF', 200, 0.5416666666666666, 0.5]\n",
      "['Digestive', 'LinReg', 100, 0.527069921316166, 0.4466183228029868]\n",
      "['Digestive', 'LinReg', 150, 0.5189109442060087, 0.655980758184951]\n",
      "['Digestive', 'LinReg', 200, 0.5159603004291846, 0.5600947731188972]\n",
      "['Urinary', 'NB', 100, 0.5988416988416989, None]\n",
      "['Urinary', 'NB', 150, 0.6335907335907336, None]\n",
      "['Urinary', 'NB', 200, 0.6374517374517374, None]\n",
      "['Urinary', 'DT', 100, 0.49613899613899615, None]\n",
      "['Urinary', 'DT', 150, 0.5364864864864866, None]\n",
      "['Urinary', 'DT', 200, 0.5864864864864865, None]\n",
      "['Urinary', 'RF', 100, 0.5, None]\n",
      "['Urinary', 'RF', 150, 0.55, None]\n",
      "['Urinary', 'RF', 200, 0.55, None]\n",
      "['Urinary', 'LinReg', 100, 0.44555984555984557, None]\n",
      "['Urinary', 'LinReg', 150, 0.5084942084942085, None]\n",
      "['Urinary', 'LinReg', 200, 0.47181467181467185, None]\n",
      "['PNS', 'NB', 100, 0.557701554736336, 0.5763339920948616]\n",
      "['PNS', 'NB', 150, 0.5707645456002565, 0.5256916996047432]\n",
      "['PNS', 'NB', 200, 0.6341294010792327, 0.5256916996047432]\n",
      "['PNS', 'DT', 100, 0.5244163060319496, 0.5590415019762847]\n",
      "['PNS', 'DT', 150, 0.4950045413260672, 0.6190711462450593]\n",
      "['PNS', 'DT', 200, 0.5194208473580169, 0.6210474308300395]\n",
      "['PNS', 'RF', 100, 0.5, 0.5625]\n",
      "['PNS', 'RF', 150, 0.5, 0.5625]\n",
      "['PNS', 'RF', 200, 0.5294117647058824, 0.5625]\n",
      "['PNS', 'LinReg', 100, 0.5366244590479243, 0.665822628458498]\n",
      "['PNS', 'LinReg', 150, 0.5642464070096703, 0.6463685770750989]\n",
      "['PNS', 'LinReg', 200, 0.49740877277341455, 0.6320405138339921]\n",
      "['Endocrine', 'NB', 100, 0.4135514018691589, None]\n",
      "['Endocrine', 'NB', 150, 0.20093457943925236, None]\n",
      "['Endocrine', 'NB', 200, 0.20093457943925236, None]\n",
      "['Endocrine', 'DT', 100, 0.49065420560747663, None]\n",
      "['Endocrine', 'DT', 150, 0.5, None]\n",
      "['Endocrine', 'DT', 200, 0.4672897196261682, None]\n",
      "['Endocrine', 'RF', 100, 0.5, None]\n",
      "['Endocrine', 'RF', 150, 0.5, None]\n",
      "['Endocrine', 'RF', 200, 0.5, None]\n",
      "['Endocrine', 'LinReg', 100, 0.7476635514018691, None]\n",
      "['Endocrine', 'LinReg', 150, 0.5654205607476636, None]\n",
      "['Endocrine', 'LinReg', 200, 0.588785046728972, None]\n",
      "['Immune', 'NB', 100, 0.48164367296166455, 0.49117156956995445]\n",
      "['Immune', 'NB', 150, 0.4996324776659504, 0.5587867717746587]\n",
      "['Immune', 'NB', 200, 0.552222096573561, 0.5591232455297058]\n",
      "['Immune', 'DT', 100, 0.5486147235101211, 0.6051240146125745]\n",
      "['Immune', 'DT', 150, 0.534892004975687, 0.6410626161635583]\n",
      "['Immune', 'DT', 200, 0.580829469637001, 0.6411747740819073]\n",
      "['Immune', 'RF', 100, 0.5337837837837838, 0.6071428571428571]\n",
      "['Immune', 'RF', 150, 0.5405405405405406, 0.6071428571428571]\n",
      "['Immune', 'RF', 200, 0.5471926947868371, 0.6071428571428571]\n",
      "['Immune', 'LinReg', 100, 0.5755993441139884, 0.5345446388515029]\n",
      "['Immune', 'LinReg', 150, 0.5764630215990049, 0.5775011215791834]\n",
      "['Immune', 'LinReg', 200, 0.5539126993101888, 0.6298308017688906]\n",
      "['Reproductive', 'NB', 100, 0.5646334493687328, 0.7492559523809523]\n",
      "['Reproductive', 'NB', 150, 0.6016262274640204, 0.7808779761904762]\n",
      "['Reproductive', 'NB', 200, 0.6562321400737777, 0.7808779761904762]\n",
      "['Reproductive', 'DT', 100, 0.6226944458876708, 0.49813988095238093]\n",
      "['Reproductive', 'DT', 150, 0.6718709409258586, 0.7477678571428571]\n",
      "['Reproductive', 'DT', 200, 0.6276302800436431, 0.7481398809523809]\n",
      "['Reproductive', 'RF', 100, 0.5789473684210527, 0.5]\n",
      "['Reproductive', 'RF', 150, 0.631578947368421, 0.75]\n",
      "['Reproductive', 'RF', 200, 0.631578947368421, 0.75]\n",
      "['Reproductive', 'LinReg', 100, 0.6053930482672624, 0.8722098214285714]\n",
      "['Reproductive', 'LinReg', 150, 0.58720839611368, 0.8895089285714286]\n",
      "['Reproductive', 'LinReg', 200, 0.5727645866888346, 0.7276785714285714]\n",
      "['Hematologic', 'NB', 100, 0.5062330623306233, None]\n",
      "['Hematologic', 'NB', 150, 0.4414634146341463, None]\n",
      "['Hematologic', 'NB', 200, 0.4414634146341463, None]\n",
      "['Hematologic', 'DT', 100, 0.4959349593495935, None]\n",
      "['Hematologic', 'DT', 150, 0.5986449864498645, None]\n",
      "['Hematologic', 'DT', 200, 0.494579945799458, None]\n",
      "['Hematologic', 'RF', 100, 0.5, None]\n",
      "['Hematologic', 'RF', 150, 0.5, None]\n",
      "['Hematologic', 'RF', 200, 0.5, None]\n",
      "['Hematologic', 'LinReg', 100, 0.49647696476964764, None]\n",
      "['Hematologic', 'LinReg', 150, 0.3905149051490515, None]\n",
      "['Hematologic', 'LinReg', 200, 0.5799457994579946, None]\n"
     ]
    },
    {
     "name": "stdout",
     "output_type": "stream",
     "text": [
      "['Cardiovascular', 'NB', 100, 0.5442488262910798, 0.4779796311588219]\n",
      "['Cardiovascular', 'NB', 150, 0.44624413145539904, 0.6237269474263694]\n",
      "['Cardiovascular', 'NB', 200, 0.5715962441314554, 0.6295072942471787]\n",
      "['Cardiovascular', 'DT', 100, 0.5561032863849765, 0.49614643545279385]\n",
      "['Cardiovascular', 'DT', 150, 0.5192488262910798, 0.49710982658959535]\n",
      "['Cardiovascular', 'DT', 200, 0.5832746478873239, 0.49710982658959535]\n",
      "['Cardiovascular', 'RF', 100, 0.5333333333333333, 0.5]\n",
      "['Cardiovascular', 'RF', 150, 0.5315727699530517, 0.5]\n",
      "['Cardiovascular', 'RF', 200, 0.5666666666666667, 0.5]\n",
      "['Cardiovascular', 'LinReg', 100, 0.5021126760563381, 0.535645472061657]\n",
      "['Cardiovascular', 'LinReg', 150, 0.45469483568075125, 0.5298651252408477]\n",
      "['Cardiovascular', 'LinReg', 200, 0.49530516431924887, 0.3170933113129645]\n",
      "['Infectious', 'NB', 100, 0.4740597702809611, 0.551306678049706]\n",
      "['Infectious', 'NB', 150, 0.5185912228813031, 0.5858708025042686]\n",
      "['Infectious', 'NB', 200, 0.5227183200769451, 0.5838787706317586]\n",
      "['Infectious', 'DT', 100, 0.5467579021314171, 0.62367197875166]\n",
      "['Infectious', 'DT', 150, 0.5492863544002127, 0.641944128248909]\n",
      "['Infectious', 'DT', 200, 0.5999850639950366, 0.641944128248909]\n",
      "['Infectious', 'RF', 100, 0.5510204081632653, 0.625]\n",
      "['Infectious', 'RF', 150, 0.5561224489795918, 0.6428571428571428]\n",
      "['Infectious', 'RF', 200, 0.5662461059701346, 0.6428571428571428]\n",
      "['Infectious', 'LinReg', 100, 0.5427284634297662, 0.6738699962056536]\n",
      "['Infectious', 'LinReg', 150, 0.5786758164742494, 0.6456673306772909]\n",
      "['Infectious', 'LinReg', 200, 0.602667800271146, 0.6594277651299563]\n",
      "['Respiratory', 'NB', 100, 0.5137399463806971, 0.33987603305785125]\n",
      "['Respiratory', 'NB', 150, 0.5191018766756033, 0.39111570247933886]\n",
      "['Respiratory', 'NB', 200, 0.5714924039320821, 0.3985537190082645]\n",
      "['Respiratory', 'DT', 100, 0.4912868632707775, 0.6208677685950413]\n",
      "['Respiratory', 'DT', 150, 0.49396782841823056, 0.6175619834710745]\n",
      "['Respiratory', 'DT', 200, 0.6209785522788204, 0.6233471074380165]\n",
      "['Respiratory', 'RF', 100, 0.5, 0.625]\n",
      "['Respiratory', 'RF', 150, 0.5, 0.625]\n",
      "['Respiratory', 'RF', 200, 0.5416666666666666, 0.625]\n",
      "['Respiratory', 'LinReg', 100, 0.5893655049151028, 0.7392561983471074]\n",
      "['Respiratory', 'LinReg', 150, 0.7084450402144772, 0.7599173553719009]\n",
      "['Respiratory', 'LinReg', 200, 0.7322944593386953, 0.7260330578512397]\n",
      "['Integumentary', 'NB', 100, 0.5087761674718196, 0.4474452554744526]\n",
      "['Integumentary', 'NB', 150, 0.4890499194847021, 0.4485401459854015]\n",
      "['Integumentary', 'NB', 200, 0.6018518518518517, 0.4605839416058394]\n",
      "['Integumentary', 'DT', 100, 0.5606280193236715, 0.4992700729927007]\n",
      "['Integumentary', 'DT', 150, 0.5594202898550724, 0.4992700729927007]\n",
      "['Integumentary', 'DT', 200, 0.5574074074074074, 0.4992700729927007]\n",
      "['Integumentary', 'RF', 100, 0.5666666666666667, 0.5]\n",
      "['Integumentary', 'RF', 150, 0.5666666666666667, 0.5]\n",
      "['Integumentary', 'RF', 200, 0.5658615136876006, 0.5]\n",
      "['Integumentary', 'LinReg', 100, 0.5545893719806763, 0.3760948905109489]\n",
      "['Integumentary', 'LinReg', 150, 0.5013419216317767, 0.5220802919708029]\n",
      "['Integumentary', 'LinReg', 200, 0.6094739667203435, 0.41295620437956204]\n",
      "['Ophthalmological', 'NB', 100, 0.5331697952218429, 0.5925042589437819]\n",
      "['Ophthalmological', 'NB', 150, 0.542235494880546, 0.6078364565587735]\n",
      "['Ophthalmological', 'NB', 200, 0.5203711604095563, 0.512947189097104]\n",
      "['Ophthalmological', 'DT', 100, 0.5261305460750852, 0.49744463373083475]\n",
      "['Ophthalmological', 'DT', 150, 0.586070819112628, 0.4991482112436116]\n",
      "['Ophthalmological', 'DT', 200, 0.5573805460750854, 0.49659284497444633]\n",
      "['Ophthalmological', 'RF', 100, 0.53125, 0.5]\n",
      "['Ophthalmological', 'RF', 150, 0.5625, 0.5]\n",
      "['Ophthalmological', 'RF', 200, 0.5625, 0.5]\n",
      "['Ophthalmological', 'LinReg', 100, 0.5506612627986347, 0.3870528109028961]\n",
      "['Ophthalmological', 'LinReg', 150, 0.5417022184300341, 0.5989778534923339]\n",
      "['Ophthalmological', 'LinReg', 200, 0.5774317406143344, 0.48603066439522996]\n",
      "['Procedural', 'NB', 100, 0.5409037968786397, 0.5711530125704378]\n",
      "['Procedural', 'NB', 150, 0.5552236198462613, 0.6347366710013004]\n",
      "['Procedural', 'NB', 200, 0.5740595154903331, 0.6752275682704811]\n",
      "['Procedural', 'DT', 100, 0.5686495457721873, 0.5656913740788903]\n",
      "['Procedural', 'DT', 150, 0.5807593757279291, 0.5816265713047248]\n",
      "['Procedural', 'DT', 200, 0.6148876077335197, 0.5652850021673168]\n",
      "['Procedural', 'RF', 100, 0.5739168413696716, 0.5666666666666667]\n",
      "['Procedural', 'RF', 150, 0.5864197530864197, 0.5666666666666667]\n",
      "['Procedural', 'RF', 200, 0.5925925925925926, 0.5666666666666667]\n",
      "['Procedural', 'LinReg', 100, 0.57440309806662, 0.579670567837018]\n",
      "['Procedural', 'LinReg', 150, 0.5243458343039056, 0.6882748157780667]\n",
      "['Procedural', 'LinReg', 200, 0.5517586769159095, 0.6590918942349372]\n",
      "['Otic', 'NB', 100, 0.4885238058995575, 0.650959367945824]\n",
      "['Otic', 'NB', 150, 0.5270024898611549, 0.59104589917231]\n",
      "['Otic', 'NB', 200, 0.5669979233035782, 0.7667419112114371]\n",
      "['Otic', 'DT', 100, 0.5521674839355027, 0.6644093303235514]\n",
      "['Otic', 'DT', 150, 0.5519011014101964, 0.6652558314522197]\n",
      "['Otic', 'DT', 200, 0.5782512259032542, 0.6644093303235514]\n",
      "['Otic', 'RF', 100, 0.5408163265306123, 0.6666666666666666]\n",
      "['Otic', 'RF', 150, 0.5510204081632653, 0.6666666666666666]\n",
      "['Otic', 'RF', 200, 0.5816326530612245, 0.6666666666666666]\n",
      "['Otic', 'LinReg', 100, 0.499896708816718, 0.5953254326561324]\n",
      "['Otic', 'LinReg', 150, 0.4916605960444914, 0.733352144469526]\n",
      "['Otic', 'LinReg', 200, 0.5257793047959727, 0.6120673438675696]\n"
     ]
    }
   ],
   "source": [
    "weeks = [100, 150, 200]\n",
    "cols = ['disease', 'clf', 'weeks', 'm_auc', 'f_auc']\n",
    "names = ['NB', 'DT', 'RF', 'LinReg']\n",
    "rows = []\n",
    "\n",
    "# This takes a few minutes to run\n",
    "# Try except blocks for when the code fails due to y_pred or y_true only have one value due to the train/test split\n",
    "for fname in os.listdir('data'):\n",
    "    # Skipping Hepatic, Urinary because of very few POS values result in code failing/poor predictions\n",
    "    if fname not in ['Positive', 'Negative'] and '.' not in fname and '_' not in fname:\n",
    "        disease, le = read_file('data/' + fname)\n",
    "        disease_m = disease[disease.sex == le.index('M')]\n",
    "        disease_f = disease[disease.sex == le.index('F')]\n",
    "        \n",
    "        mX_train, mX_test, my_train, my_test = train_test_split(disease_m.iloc[:, 1:].drop('diagnosis', axis = 1), \n",
    "                                                        disease_m.diagnosis, random_state = 42)\n",
    "\n",
    "        fX_train, fX_test, fy_train, fy_test = train_test_split(disease_f.iloc[:, 1:].drop('diagnosis', axis = 1), \n",
    "                                                        disease_f.diagnosis, random_state = 42)\n",
    "        \n",
    "        for i, clf in enumerate(classifiers):\n",
    "            for num_weeks in weeks:             \n",
    "                clf.fit(mX_train.iloc[:, 1:num_weeks + 2], my_train)\n",
    "                y_pred = clf.predict(mX_test.iloc[:, 1:num_weeks + 2])\n",
    "                \n",
    "                try:\n",
    "                    m_auc = roc_auc_score(my_test, y_pred)\n",
    "                except Exception as e:\n",
    "                    m_auc = None\n",
    "\n",
    "                clf.fit(fX_train.iloc[:, 1:num_weeks + 2], fy_train)\n",
    "                y_pred = clf.predict(fX_test.iloc[:, 1:num_weeks + 2])\n",
    "                \n",
    "                try:\n",
    "                    f_auc = roc_auc_score(fy_test, y_pred)\n",
    "                except Exception as e:\n",
    "                    f_auc = None\n",
    "                                    \n",
    "                new_row = [fname, names[i], num_weeks, m_auc, f_auc]\n",
    "                print(new_row) # Hidden in submission - this is just to keep track as it runs\n",
    "                rows.append(new_row)"
   ]
  },
  {
   "cell_type": "code",
   "execution_count": 50,
   "metadata": {
    "scrolled": true
   },
   "outputs": [],
   "source": [
    "disease_week_gender_clfs = pd.DataFrame(rows, columns = cols)\n",
    "combos_m = disease_week_gender_clfs.drop('f_auc', axis = 1)\n",
    "combos_f = disease_week_gender_clfs.drop('m_auc', axis = 1)"
   ]
  },
  {
   "cell_type": "markdown",
   "metadata": {},
   "source": [
    "#### To identify the most predictive diseases, weeks considered, and to eventually decide what is the best combination of diseases to use, we look at the above dataframe and groupby various columns."
   ]
  },
  {
   "cell_type": "code",
   "execution_count": 40,
   "metadata": {
    "scrolled": true
   },
   "outputs": [
    {
     "name": "stdout",
     "output_type": "stream",
     "text": [
      "         m_auc\n",
      "weeks         \n",
      "150    0.54421\n",
      "100    0.54566\n",
      "200    0.56696\n",
      "       disease clf     m_auc\n",
      "weeks                       \n",
      "100    Urinary  RF  0.780488\n",
      "150    Urinary  RF  0.780488\n",
      "200    Urinary  RF  0.926829\n",
      "          f_auc\n",
      "weeks          \n",
      "100    0.566018\n",
      "200    0.581936\n",
      "150    0.590454\n",
      "       disease clf     f_auc\n",
      "weeks                       \n",
      "200    Urinary  RF  0.780878\n",
      "100    Urinary  RF  0.872210\n",
      "150    Urinary  RF  0.889509\n"
     ]
    }
   ],
   "source": [
    "print(combos_m.groupby('weeks').mean().sort_values('m_auc'))\n",
    "print(combos_m.groupby('weeks').max().sort_values('m_auc'))\n",
    "print(combos_f.groupby('weeks').mean().sort_values('f_auc'))\n",
    "print(combos_f.groupby('weeks').max().sort_values('f_auc'))"
   ]
  },
  {
   "cell_type": "markdown",
   "metadata": {},
   "source": [
    "#### When grouping by weeks and gender, it appears that when considering male disease history, it is best to consider all 200 weeks - in terms of both mean and maximum AUC). For female disease history, it appears that it is better to use only the first 150 weeks.\n",
    "\n",
    "#### Now we do the same but consider each disease separately, after dropping values that don't consider all 200 weeks for men or 150 weeks for women. This leaves us with 76 rows for each gender."
   ]
  },
  {
   "cell_type": "code",
   "execution_count": 57,
   "metadata": {},
   "outputs": [],
   "source": [
    "combos_m = combos_m[combos_m.weeks == 200]\n",
    "combos_f = combos_f[combos_f.weeks == 150]"
   ]
  },
  {
   "cell_type": "code",
   "execution_count": 58,
   "metadata": {
    "collapsed": true
   },
   "outputs": [
    {
     "name": "stdout",
     "output_type": "stream",
     "text": [
      "              weeks     m_auc\n",
      "disease                      \n",
      "Neoplastic      200  0.717885\n",
      "Reproductive    200  0.622051\n",
      "Respiratory     200  0.616608\n",
      "Hepatic         200  0.579268\n",
      "             clf  weeks     m_auc\n",
      "disease                          \n",
      "Hepatic       RF    200  0.926829\n",
      "Neoplastic    RF    200  0.750000\n",
      "Respiratory   RF    200  0.732294\n",
      "Reproductive  RF    200  0.656232\n"
     ]
    }
   ],
   "source": [
    "print(combos_m.groupby('disease').mean().sort_values('m_auc', ascending = False))\n",
    "print(combos_m.groupby('disease').max().sort_values('m_auc', ascending = False))"
   ]
  },
  {
   "cell_type": "markdown",
   "metadata": {},
   "source": [
    "#### For men: Interestingly, Neoplastic, Reproductive, and Respiratory disease history appear in the top 5 for both mean and maximum AUCs when grouped by disease history. We will also consider Hepatic because of the very high max AUC. As such, we distill the df one more time to reduce the number of combinations considered manually. We do the same for women afterwards."
   ]
  },
  {
   "cell_type": "code",
   "execution_count": 62,
   "metadata": {},
   "outputs": [],
   "source": [
    "best_m_diseases = ['Neoplastic', 'Reproductive', 'Respiratory', 'Hepatic']\n",
    "combos_m = combos_m[combos_m.disease.isin(best_m_diseases)]"
   ]
  },
  {
   "cell_type": "code",
   "execution_count": 63,
   "metadata": {},
   "outputs": [
    {
     "name": "stdout",
     "output_type": "stream",
     "text": [
      "              weeks     f_auc\n",
      "disease                      \n",
      "Reproductive    150  0.792039\n",
      "Otic            150  0.664080\n",
      "Development     150  0.630385\n",
      "             clf  weeks     f_auc\n",
      "disease                          \n",
      "Reproductive  RF    150  0.889509\n",
      "Otic          RF    150  0.733352\n",
      "Development   RF    150  0.683136\n"
     ]
    }
   ],
   "source": [
    "print(combos_f.groupby('disease').mean().sort_values('f_auc', ascending = False))\n",
    "print(combos_f.groupby('disease').max().sort_values('f_auc', ascending = False))"
   ]
  },
  {
   "cell_type": "markdown",
   "metadata": {},
   "source": [
    "#### For women, Reproductive, OTIC, and Development diseases seem to work well. We will consider these in our final models."
   ]
  },
  {
   "cell_type": "code",
   "execution_count": 64,
   "metadata": {},
   "outputs": [],
   "source": [
    "best_f_diseases = ['Reproductive', 'Otic', 'Development']\n",
    "combos_f = combos_f[combos_f.disease.isin(best_f_diseases)]"
   ]
  },
  {
   "cell_type": "markdown",
   "metadata": {},
   "source": [
    "#### For both men, and women, we drop the algorithm with the lowest mean AUC for the disease histories we are considering"
   ]
  },
  {
   "cell_type": "code",
   "execution_count": 68,
   "metadata": {},
   "outputs": [
    {
     "name": "stdout",
     "output_type": "stream",
     "text": [
      "        weeks     m_auc\n",
      "clf                    \n",
      "NB        200  0.564743\n",
      "RF        200  0.605811\n",
      "DT        200  0.623355\n",
      "LinReg    200  0.741904\n",
      "        weeks     f_auc\n",
      "clf                    \n",
      "NB        150  0.664493\n",
      "DT        150  0.673100\n",
      "RF        150  0.675747\n",
      "LinReg    150  0.768666\n"
     ]
    }
   ],
   "source": [
    "print(combos_m.groupby('clf').mean().sort_values('m_auc'))\n",
    "print(combos_f.groupby('clf').mean().sort_values('f_auc'))"
   ]
  },
  {
   "cell_type": "markdown",
   "metadata": {},
   "source": [
    "#### In both cases, Naive Bayes does worse than the others when considering the AUCs below. Now, we create models for each of the genders."
   ]
  },
  {
   "cell_type": "code",
   "execution_count": 138,
   "metadata": {
    "scrolled": true
   },
   "outputs": [
    {
     "name": "stderr",
     "output_type": "stream",
     "text": [
      "/Users/abdallahaboelela/Library/Python/3.7/lib/python/site-packages/ipykernel_launcher.py:17: FutureWarning: Sorting because non-concatenation axis is not aligned. A future version\n",
      "of pandas will change to not sort by default.\n",
      "\n",
      "To accept the future behavior, pass 'sort=False'.\n",
      "\n",
      "To retain the current behavior and silence the warning, pass 'sort=True'.\n",
      "\n"
     ]
    },
    {
     "ename": "ValueError",
     "evalue": "Shape of passed values is (453, 22882), indices imply (453, 21942)",
     "output_type": "error",
     "traceback": [
      "\u001b[0;31m---------------------------------------------------------------------------\u001b[0m",
      "\u001b[0;31mValueError\u001b[0m                                Traceback (most recent call last)",
      "\u001b[0;32m<ipython-input-138-52ed28b2137f>\u001b[0m in \u001b[0;36m<module>\u001b[0;34m\u001b[0m\n\u001b[0;32m----> 1\u001b[0;31m \u001b[0mfinal_f_combined\u001b[0m \u001b[0;34m=\u001b[0m \u001b[0mcombine\u001b[0m\u001b[0;34m(\u001b[0m\u001b[0mbest_f_diseases\u001b[0m\u001b[0;34m,\u001b[0m \u001b[0;34m'F'\u001b[0m\u001b[0;34m)\u001b[0m\u001b[0;34m\u001b[0m\u001b[0;34m\u001b[0m\u001b[0m\n\u001b[0m\u001b[1;32m      2\u001b[0m \u001b[0mprint\u001b[0m\u001b[0;34m(\u001b[0m\u001b[0;34m'done with female'\u001b[0m\u001b[0;34m)\u001b[0m\u001b[0;34m\u001b[0m\u001b[0;34m\u001b[0m\u001b[0m\n\u001b[1;32m      3\u001b[0m \u001b[0mfinal_m_combined\u001b[0m \u001b[0;34m=\u001b[0m \u001b[0mcombine\u001b[0m\u001b[0;34m(\u001b[0m\u001b[0mbest_m_diseases\u001b[0m\u001b[0;34m,\u001b[0m \u001b[0;34m'M'\u001b[0m\u001b[0;34m)\u001b[0m\u001b[0;34m\u001b[0m\u001b[0;34m\u001b[0m\u001b[0m\n\u001b[1;32m      4\u001b[0m \u001b[0;34m\u001b[0m\u001b[0m\n\u001b[1;32m      5\u001b[0m \u001b[0;31m### THIS IS TAKING TOO LONG, SWITCH TO ONLY LOOKING AT FIRST X WEEKS.\u001b[0m\u001b[0;34m\u001b[0m\u001b[0;34m\u001b[0m\u001b[0;34m\u001b[0m\u001b[0m\n",
      "\u001b[0;32m<ipython-input-137-eba14d9fc66e>\u001b[0m in \u001b[0;36mcombine\u001b[0;34m(list_of_diseases, gender, new_features)\u001b[0m\n\u001b[1;32m     15\u001b[0m         \u001b[0mdfs\u001b[0m\u001b[0;34m.\u001b[0m\u001b[0mappend\u001b[0m\u001b[0;34m(\u001b[0m\u001b[0mdf\u001b[0m\u001b[0;34m)\u001b[0m\u001b[0;34m\u001b[0m\u001b[0;34m\u001b[0m\u001b[0m\n\u001b[1;32m     16\u001b[0m \u001b[0;34m\u001b[0m\u001b[0m\n\u001b[0;32m---> 17\u001b[0;31m     \u001b[0mcombined\u001b[0m \u001b[0;34m=\u001b[0m \u001b[0mpd\u001b[0m\u001b[0;34m.\u001b[0m\u001b[0mconcat\u001b[0m\u001b[0;34m(\u001b[0m\u001b[0mdfs\u001b[0m\u001b[0;34m,\u001b[0m \u001b[0maxis\u001b[0m \u001b[0;34m=\u001b[0m \u001b[0;36m1\u001b[0m\u001b[0;34m,\u001b[0m \u001b[0mjoin\u001b[0m \u001b[0;34m=\u001b[0m \u001b[0;34m'outer'\u001b[0m\u001b[0;34m)\u001b[0m\u001b[0;34m\u001b[0m\u001b[0;34m\u001b[0m\u001b[0m\n\u001b[0m\u001b[1;32m     18\u001b[0m \u001b[0;34m\u001b[0m\u001b[0m\n\u001b[1;32m     19\u001b[0m     \u001b[0mcombined\u001b[0m\u001b[0;34m[\u001b[0m\u001b[0;34m'sex'\u001b[0m\u001b[0;34m]\u001b[0m \u001b[0;34m=\u001b[0m \u001b[0mdf\u001b[0m\u001b[0;34m.\u001b[0m\u001b[0mp_id\u001b[0m\u001b[0;34m.\u001b[0m\u001b[0mapply\u001b[0m\u001b[0;34m(\u001b[0m\u001b[0;32mlambda\u001b[0m \u001b[0mx\u001b[0m\u001b[0;34m:\u001b[0m \u001b[0mx\u001b[0m\u001b[0;34m[\u001b[0m\u001b[0;36m0\u001b[0m\u001b[0;34m]\u001b[0m\u001b[0;34m)\u001b[0m\u001b[0;34m\u001b[0m\u001b[0;34m\u001b[0m\u001b[0m\n",
      "\u001b[0;32m/usr/local/lib/python3.7/site-packages/pandas/core/reshape/concat.py\u001b[0m in \u001b[0;36mconcat\u001b[0;34m(objs, axis, join, join_axes, ignore_index, keys, levels, names, verify_integrity, sort, copy)\u001b[0m\n\u001b[1;32m    224\u001b[0m                        \u001b[0mverify_integrity\u001b[0m\u001b[0;34m=\u001b[0m\u001b[0mverify_integrity\u001b[0m\u001b[0;34m,\u001b[0m\u001b[0;34m\u001b[0m\u001b[0;34m\u001b[0m\u001b[0m\n\u001b[1;32m    225\u001b[0m                        copy=copy, sort=sort)\n\u001b[0;32m--> 226\u001b[0;31m     \u001b[0;32mreturn\u001b[0m \u001b[0mop\u001b[0m\u001b[0;34m.\u001b[0m\u001b[0mget_result\u001b[0m\u001b[0;34m(\u001b[0m\u001b[0;34m)\u001b[0m\u001b[0;34m\u001b[0m\u001b[0;34m\u001b[0m\u001b[0m\n\u001b[0m\u001b[1;32m    227\u001b[0m \u001b[0;34m\u001b[0m\u001b[0m\n\u001b[1;32m    228\u001b[0m \u001b[0;34m\u001b[0m\u001b[0m\n",
      "\u001b[0;32m/usr/local/lib/python3.7/site-packages/pandas/core/reshape/concat.py\u001b[0m in \u001b[0;36mget_result\u001b[0;34m(self)\u001b[0m\n\u001b[1;32m    421\u001b[0m             new_data = concatenate_block_managers(\n\u001b[1;32m    422\u001b[0m                 \u001b[0mmgrs_indexers\u001b[0m\u001b[0;34m,\u001b[0m \u001b[0mself\u001b[0m\u001b[0;34m.\u001b[0m\u001b[0mnew_axes\u001b[0m\u001b[0;34m,\u001b[0m \u001b[0mconcat_axis\u001b[0m\u001b[0;34m=\u001b[0m\u001b[0mself\u001b[0m\u001b[0;34m.\u001b[0m\u001b[0maxis\u001b[0m\u001b[0;34m,\u001b[0m\u001b[0;34m\u001b[0m\u001b[0;34m\u001b[0m\u001b[0m\n\u001b[0;32m--> 423\u001b[0;31m                 copy=self.copy)\n\u001b[0m\u001b[1;32m    424\u001b[0m             \u001b[0;32mif\u001b[0m \u001b[0;32mnot\u001b[0m \u001b[0mself\u001b[0m\u001b[0;34m.\u001b[0m\u001b[0mcopy\u001b[0m\u001b[0;34m:\u001b[0m\u001b[0;34m\u001b[0m\u001b[0;34m\u001b[0m\u001b[0m\n\u001b[1;32m    425\u001b[0m                 \u001b[0mnew_data\u001b[0m\u001b[0;34m.\u001b[0m\u001b[0m_consolidate_inplace\u001b[0m\u001b[0;34m(\u001b[0m\u001b[0;34m)\u001b[0m\u001b[0;34m\u001b[0m\u001b[0;34m\u001b[0m\u001b[0m\n",
      "\u001b[0;32m/usr/local/lib/python3.7/site-packages/pandas/core/internals.py\u001b[0m in \u001b[0;36mconcatenate_block_managers\u001b[0;34m(mgrs_indexers, axes, concat_axis, copy)\u001b[0m\n\u001b[1;32m   5423\u001b[0m         \u001b[0mblocks\u001b[0m\u001b[0;34m.\u001b[0m\u001b[0mappend\u001b[0m\u001b[0;34m(\u001b[0m\u001b[0mb\u001b[0m\u001b[0;34m)\u001b[0m\u001b[0;34m\u001b[0m\u001b[0;34m\u001b[0m\u001b[0m\n\u001b[1;32m   5424\u001b[0m \u001b[0;34m\u001b[0m\u001b[0m\n\u001b[0;32m-> 5425\u001b[0;31m     \u001b[0;32mreturn\u001b[0m \u001b[0mBlockManager\u001b[0m\u001b[0;34m(\u001b[0m\u001b[0mblocks\u001b[0m\u001b[0;34m,\u001b[0m \u001b[0maxes\u001b[0m\u001b[0;34m)\u001b[0m\u001b[0;34m\u001b[0m\u001b[0;34m\u001b[0m\u001b[0m\n\u001b[0m\u001b[1;32m   5426\u001b[0m \u001b[0;34m\u001b[0m\u001b[0m\n\u001b[1;32m   5427\u001b[0m \u001b[0;34m\u001b[0m\u001b[0m\n",
      "\u001b[0;32m/usr/local/lib/python3.7/site-packages/pandas/core/internals.py\u001b[0m in \u001b[0;36m__init__\u001b[0;34m(self, blocks, axes, do_integrity_check)\u001b[0m\n\u001b[1;32m   3280\u001b[0m \u001b[0;34m\u001b[0m\u001b[0m\n\u001b[1;32m   3281\u001b[0m         \u001b[0;32mif\u001b[0m \u001b[0mdo_integrity_check\u001b[0m\u001b[0;34m:\u001b[0m\u001b[0;34m\u001b[0m\u001b[0;34m\u001b[0m\u001b[0m\n\u001b[0;32m-> 3282\u001b[0;31m             \u001b[0mself\u001b[0m\u001b[0;34m.\u001b[0m\u001b[0m_verify_integrity\u001b[0m\u001b[0;34m(\u001b[0m\u001b[0;34m)\u001b[0m\u001b[0;34m\u001b[0m\u001b[0;34m\u001b[0m\u001b[0m\n\u001b[0m\u001b[1;32m   3283\u001b[0m \u001b[0;34m\u001b[0m\u001b[0m\n\u001b[1;32m   3284\u001b[0m         \u001b[0mself\u001b[0m\u001b[0;34m.\u001b[0m\u001b[0m_consolidate_check\u001b[0m\u001b[0;34m(\u001b[0m\u001b[0;34m)\u001b[0m\u001b[0;34m\u001b[0m\u001b[0;34m\u001b[0m\u001b[0m\n",
      "\u001b[0;32m/usr/local/lib/python3.7/site-packages/pandas/core/internals.py\u001b[0m in \u001b[0;36m_verify_integrity\u001b[0;34m(self)\u001b[0m\n\u001b[1;32m   3491\u001b[0m         \u001b[0;32mfor\u001b[0m \u001b[0mblock\u001b[0m \u001b[0;32min\u001b[0m \u001b[0mself\u001b[0m\u001b[0;34m.\u001b[0m\u001b[0mblocks\u001b[0m\u001b[0;34m:\u001b[0m\u001b[0;34m\u001b[0m\u001b[0;34m\u001b[0m\u001b[0m\n\u001b[1;32m   3492\u001b[0m             \u001b[0;32mif\u001b[0m \u001b[0mblock\u001b[0m\u001b[0;34m.\u001b[0m\u001b[0m_verify_integrity\u001b[0m \u001b[0;32mand\u001b[0m \u001b[0mblock\u001b[0m\u001b[0;34m.\u001b[0m\u001b[0mshape\u001b[0m\u001b[0;34m[\u001b[0m\u001b[0;36m1\u001b[0m\u001b[0;34m:\u001b[0m\u001b[0;34m]\u001b[0m \u001b[0;34m!=\u001b[0m \u001b[0mmgr_shape\u001b[0m\u001b[0;34m[\u001b[0m\u001b[0;36m1\u001b[0m\u001b[0;34m:\u001b[0m\u001b[0;34m]\u001b[0m\u001b[0;34m:\u001b[0m\u001b[0;34m\u001b[0m\u001b[0;34m\u001b[0m\u001b[0m\n\u001b[0;32m-> 3493\u001b[0;31m                 \u001b[0mconstruction_error\u001b[0m\u001b[0;34m(\u001b[0m\u001b[0mtot_items\u001b[0m\u001b[0;34m,\u001b[0m \u001b[0mblock\u001b[0m\u001b[0;34m.\u001b[0m\u001b[0mshape\u001b[0m\u001b[0;34m[\u001b[0m\u001b[0;36m1\u001b[0m\u001b[0;34m:\u001b[0m\u001b[0;34m]\u001b[0m\u001b[0;34m,\u001b[0m \u001b[0mself\u001b[0m\u001b[0;34m.\u001b[0m\u001b[0maxes\u001b[0m\u001b[0;34m)\u001b[0m\u001b[0;34m\u001b[0m\u001b[0;34m\u001b[0m\u001b[0m\n\u001b[0m\u001b[1;32m   3494\u001b[0m         \u001b[0;32mif\u001b[0m \u001b[0mlen\u001b[0m\u001b[0;34m(\u001b[0m\u001b[0mself\u001b[0m\u001b[0;34m.\u001b[0m\u001b[0mitems\u001b[0m\u001b[0;34m)\u001b[0m \u001b[0;34m!=\u001b[0m \u001b[0mtot_items\u001b[0m\u001b[0;34m:\u001b[0m\u001b[0;34m\u001b[0m\u001b[0;34m\u001b[0m\u001b[0m\n\u001b[1;32m   3495\u001b[0m             raise AssertionError('Number of manager items must equal union of '\n",
      "\u001b[0;32m/usr/local/lib/python3.7/site-packages/pandas/core/internals.py\u001b[0m in \u001b[0;36mconstruction_error\u001b[0;34m(tot_items, block_shape, axes, e)\u001b[0m\n\u001b[1;32m   4841\u001b[0m         \u001b[0;32mraise\u001b[0m \u001b[0mValueError\u001b[0m\u001b[0;34m(\u001b[0m\u001b[0;34m\"Empty data passed with indices specified.\"\u001b[0m\u001b[0;34m)\u001b[0m\u001b[0;34m\u001b[0m\u001b[0;34m\u001b[0m\u001b[0m\n\u001b[1;32m   4842\u001b[0m     raise ValueError(\"Shape of passed values is {0}, indices imply {1}\".format(\n\u001b[0;32m-> 4843\u001b[0;31m         passed, implied))\n\u001b[0m\u001b[1;32m   4844\u001b[0m \u001b[0;34m\u001b[0m\u001b[0m\n\u001b[1;32m   4845\u001b[0m \u001b[0;34m\u001b[0m\u001b[0m\n",
      "\u001b[0;31mValueError\u001b[0m: Shape of passed values is (453, 22882), indices imply (453, 21942)"
     ]
    }
   ],
   "source": [
    "final_f_combined = combine(best_f_diseases, 'F')\n",
    "print('done with female')\n",
    "final_m_combined = combine(best_m_diseases, 'M')\n",
    "\n",
    "### THIS IS TAKING TOO LONG, SWITCH TO ONLY LOOKING AT FIRST X WEEKS."
   ]
  },
  {
   "cell_type": "code",
   "execution_count": null,
   "metadata": {},
   "outputs": [],
   "source": []
  },
  {
   "cell_type": "code",
   "execution_count": null,
   "metadata": {},
   "outputs": [],
   "source": []
  },
  {
   "cell_type": "markdown",
   "metadata": {},
   "source": [
    "# Appendix"
   ]
  },
  {
   "cell_type": "code",
   "execution_count": 87,
   "metadata": {},
   "outputs": [],
   "source": [
    "'''\n",
    "Takes a disease file, and reads into a pandas dataframe.\n",
    "Creates from values: gender, diagnosis, state, and county\n",
    "'''\n",
    "def read_file(fname):\n",
    "    with open(fname) as f:\n",
    "        content = f.readlines()\n",
    "    \n",
    "    content = [x.strip().split(' ') for x in content]\n",
    "\n",
    "    max_cols = 0\n",
    "    for i, line in enumerate(content):\n",
    "        max_cols = max(max_cols, len(line))\n",
    "\n",
    "    name = fname[5:]\n",
    "\n",
    "    columns = ['p_id', 'c_id'] + [name + str(i) for i in range(max_cols - 2)]\n",
    "\n",
    "    df = pd.read_csv(fname, names = columns, engine = 'python', \n",
    "        delim_whitespace = True, index_col = 'c_id')\n",
    "\n",
    "    df['sex'] = df.p_id.apply(lambda x: x[0])\n",
    "    df['diagnosis'] = df.p_id.apply(lambda x: x[1:4])\n",
    "    df['state'] = df.p_id.apply(lambda x: x[4:6])\n",
    "    df['county'] = df.p_id.apply(lambda x: x[6:9])\n",
    "    \n",
    "    return df"
   ]
  },
  {
   "cell_type": "code",
   "execution_count": null,
   "metadata": {},
   "outputs": [],
   "source": [
    "def encode(df):\n",
    "    df = df.replace(np.nan, -1)\n",
    "\n",
    "    for col in df.columns[1:]:\n",
    "        le = LabelEncoder()\n",
    "        le = le.fit(df[col])\n",
    "        \n",
    "        df[col] = le.transform(df[col])\n",
    "        \n",
    "        if col == 'sex':\n",
    "            final_le = list(le.classes_)\n",
    "            \n",
    "    return df, final_le"
   ]
  },
  {
   "cell_type": "code",
   "execution_count": 99,
   "metadata": {},
   "outputs": [],
   "source": [
    "def run_on_combined(combined):\n",
    "    dt = DecisionTreeClassifier()\n",
    "    rf = RandomForestClassifier(n_estimators = 100)\n",
    "    rg = LinearRegression()\n",
    "    \n",
    "    X_train, X_test, y_train, y_test = train_test_split(combined.drop('diagnosis', axis = 1), \n",
    "                                                        combined.diagnosis, random_state = 42)\n",
    "    \n",
    "    dt.fit(X_train, y_train)\n",
    "    rf.fit(X_train, y_train)\n",
    "    rg.fit(X_train, y_train)\n",
    "    \n",
    "    dt_pred = dt.predict(X_test)\n",
    "    rf_pred = rf.predict(X_test)\n",
    "    rg_pred = rg.predict(X_test)\n",
    "    \n",
    "    preds = pd.concat([dt_pred, rf_pred, rg_pred], axis = 1)\n",
    "    \n",
    "    y_pred = preds.apply(lambda row: row[random.uniform(0, 3) // 1])\n",
    "    \n",
    "    return roc_auc_score(y_test, y_pred)"
   ]
  },
  {
   "cell_type": "code",
   "execution_count": 137,
   "metadata": {},
   "outputs": [],
   "source": [
    "def combine(list_of_diseases, gender, new_features = False):\n",
    "    dfs = [] \n",
    "    \n",
    "    colnum = 152 if gender == 'F' else 202\n",
    "    \n",
    "    for fname in list_of_diseases:\n",
    "        with open('data/' + fname) as f:\n",
    "            content = f.readlines()\n",
    "            \n",
    "        content = [x.strip().split(' ')[:colnum] for x in content]\n",
    "        cols = ['p_id', 'c_id'] + [fname + str(i) for i in range(colnum - 2)]\n",
    "        \n",
    "        df = pd.DataFrame(content, columns = cols)\n",
    "        df = df.set_index('c_id')\n",
    "        dfs.append(df)\n",
    "        \n",
    "    combined = pd.concat(dfs, axis = 1, join = 'outer')\n",
    "    \n",
    "    combined['sex'] = df.p_id.apply(lambda x: x[0])\n",
    "    combined['diagnosis'] = df.p_id.apply(lambda x: x[1:4])\n",
    "    combined['state'] = df.p_id.apply(lambda x: x[4:6])\n",
    "    combined['county'] = df.p_id.apply(lambda x: x[6:9])\n",
    "    \n",
    "    combined, le = encode(combined)\n",
    "        \n",
    "    return combined[combined.sex == le.index(gender)]"
   ]
  },
  {
   "cell_type": "code",
   "execution_count": null,
   "metadata": {},
   "outputs": [],
   "source": [
    "def temporary():\n",
    "    end_cols = 0\n",
    "    if new_features:\n",
    "        # Using sum overweights other diseases but generally proportional\n",
    "        df['total'] = df.iloc[:, 1:df.shape[1]-4].sum(axis = 1)\n",
    "        df['6mos'] = df.iloc[:, 1:28].sum(axis = 1)\n",
    "        df['1y'] = df.iloc[:, 1:53].sum(axis = 1)\n",
    "        df['2y'] = df.iloc[:, 1:105].sum(axis = 1)\n",
    "        \n",
    "        end_cols = 4"
   ]
  },
  {
   "cell_type": "code",
   "execution_count": 129,
   "metadata": {},
   "outputs": [],
   "source": [
    "s1 = pd.Series(['a', 'b'])\n",
    "s2 = pd.Series(['c', 'd'])"
   ]
  },
  {
   "cell_type": "code",
   "execution_count": null,
   "metadata": {},
   "outputs": [],
   "source": []
  }
 ],
 "metadata": {
  "kernelspec": {
   "display_name": "Python 3",
   "language": "python",
   "name": "python3"
  },
  "language_info": {
   "codemirror_mode": {
    "name": "ipython",
    "version": 3
   },
   "file_extension": ".py",
   "mimetype": "text/x-python",
   "name": "python",
   "nbconvert_exporter": "python",
   "pygments_lexer": "ipython3",
   "version": "3.7.2"
  }
 },
 "nbformat": 4,
 "nbformat_minor": 2
}
