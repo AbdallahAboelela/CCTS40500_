{
 "cells": [
  {
   "cell_type": "markdown",
   "metadata": {},
   "source": [
    "# CCTS 40500: ML Midterm\n",
    "### Abdallah Aboelela"
   ]
  },
  {
   "cell_type": "markdown",
   "metadata": {},
   "source": [
    "To do:\n",
    "1. Go through first run through csv and figure out which models are best to use\n",
    "2. Create master df merged on id values\n",
    "3. Consider only first x weeks of a child's life\n",
    "4. Add fraction of time sick in first 6 months, 2 years, overall (with different diseases?)"
   ]
  },
  {
   "cell_type": "code",
   "execution_count": 2,
   "metadata": {},
   "outputs": [],
   "source": [
    "import pandas as pd \n",
    "import numpy as np\n",
    "import os\n",
    "import csv\n",
    "\n",
    "from sklearn.model_selection import train_test_split\n",
    "from sklearn.naive_bayes import GaussianNB\n",
    "from sklearn.tree import DecisionTreeClassifier\n",
    "from sklearn.ensemble import RandomForestClassifier\n",
    "from sklearn.svm import SVC\n",
    "from sklearn.linear_model import LinearRegression\n",
    "from sklearn.metrics import roc_auc_score"
   ]
  },
  {
   "cell_type": "code",
   "execution_count": 3,
   "metadata": {},
   "outputs": [],
   "source": [
    "'''\n",
    "Takes a disease file, and reads into a pandas dataframe.\n",
    "Creates from values: gender, diagnosis, state, and county\n",
    "'''\n",
    "def read_file(fname):\n",
    "    with open(fname) as f:\n",
    "        content = f.readlines()\n",
    "    \n",
    "    content = [x.strip().split(' ') for x in content]\n",
    "\n",
    "    max_cols = 0\n",
    "    for i, line in enumerate(content):\n",
    "        max_cols = max(max_cols, len(line))\n",
    "\n",
    "    name = fname[5:]\n",
    "\n",
    "    columns = ['p_id', 'c_id'] + [name + str(i) for i in range(max_cols - 2)]\n",
    "\n",
    "    df = pd.read_csv(fname, names = columns, engine = 'python', \n",
    "        delim_whitespace = True)\n",
    "\n",
    "    df['sex'] = df.p_id.apply(lambda x: x[0])\n",
    "    df['diagnosis'] = df.p_id.apply(lambda x: x[1:4])\n",
    "    df['state'] = df.p_id.apply(lambda x: x[4:6])\n",
    "    df['county'] = df.p_id.apply(lambda x: x[6:9])\n",
    "\n",
    "    for col in df.columns[2:]:\n",
    "        df[col] = pd.Categorical(df[col]).codes\n",
    "\n",
    "    return df"
   ]
  },
  {
   "cell_type": "code",
   "execution_count": 4,
   "metadata": {},
   "outputs": [],
   "source": [
    "'''\n",
    "Runs NB, DT, RF, SVC, and Linear Regression (all with default values) on \n",
    "each disease file separately. The result of this is displayed below in df form\n",
    "'''\n",
    "def classify():\n",
    "    rows = [['Disease', 'NB', 'DT', 'RF', 'SVC', 'LR']]\n",
    "\n",
    "    for fname in os.listdir('data'):\n",
    "        if '.' in fname or '_' in fname or fname == 'Hepatic':\n",
    "            # Hepatic causes an error because there are only 4 POS \n",
    "            # and they get sorted in weird in the train/test split\n",
    "            pass\n",
    "\n",
    "        else:\n",
    "            print(fname)\n",
    "            df = read_file('data/' + fname)\n",
    "\n",
    "            X_train, X_test, y_train, y_test = train_test_split(df.iloc[:, 2:].drop('diagnosis', \n",
    "                axis = 1), df.diagnosis, random_state = 42)\n",
    "\n",
    "            nb = GaussianNB()\n",
    "            nb.fit(X_train, y_train)\n",
    "            y_pred = nb.predict(X_test)\n",
    "            nb_auc = roc_auc_score(y_test, y_pred)\n",
    "            print('NB: ', nb_auc)\n",
    "\n",
    "            dt = DecisionTreeClassifier()\n",
    "            dt.fit(X_train, y_train)\n",
    "            y_pred = dt.predict(X_test)\n",
    "            dt_auc = roc_auc_score(y_test, y_pred)\n",
    "            print('DTC: ', dt_auc)\n",
    "            print(dt.feature_importances_)\n",
    "\n",
    "\n",
    "            rf = RandomForestClassifier(n_estimators = 100)\n",
    "            rf.fit(X_train, y_train)\n",
    "            y_pred = rf.predict(X_test)\n",
    "            rf_auc = roc_auc_score(y_test, y_pred)\n",
    "            print('RFC: ', rf_auc)\n",
    "\n",
    "            svc = SVC(gamma = 'auto')\n",
    "            svc.fit(X_train, y_train)\n",
    "            y_pred = svc.predict(X_test)\n",
    "            svc_auc = roc_auc_score(y_test, y_pred)\n",
    "            print('SVC: ', svc_auc)\n",
    "\n",
    "            reg = LinearRegression()\n",
    "            reg.fit(X_train, y_train)\n",
    "            y_pred = reg.predict(X_test)\n",
    "            reg_auc = roc_auc_score(y_test, y_pred)\n",
    "            print('LinReg: ', reg_auc)\n",
    "            print()"
   ]
  },
  {
   "cell_type": "code",
   "execution_count": 5,
   "metadata": {
    "scrolled": false
   },
   "outputs": [
    {
     "name": "stdout",
     "output_type": "stream",
     "text": [
      "                        NB        DT        RF  SVC    LinReg\n",
      "Disease                                                      \n",
      "Musculoskeletal   0.599812  0.605690  0.600000  0.5  0.602927\n",
      "Positive          0.599433  0.626699  0.578947  0.5  0.555611\n",
      "Development       0.569473  0.627991  0.617021  0.5  0.734572\n",
      "Metabolic         0.566709  0.594859  0.555556  0.5  0.808795\n",
      "Neoplastic        0.703814  0.589567  0.590909  0.5  0.717596\n",
      "Digestive         0.553241  0.624882  0.588235  0.5  0.660349\n",
      "Negative          0.670250  0.624723  0.616438  0.5  0.791504\n",
      "Urinary           0.785251  0.494327  0.666667  0.5  0.570502\n",
      "PNS               0.608439  0.728929  0.735294  0.5  0.783565\n",
      "Endocrine         0.489496  0.491597  0.500000  0.5  0.428571\n",
      "Immune            0.576491  0.645830  0.623457  0.5  0.708723\n",
      "Reproductive      0.542819  0.619301  0.562500  0.5  0.680087\n",
      "Hematologic       0.641562  0.579149  0.500000  0.5  0.719665\n",
      "Cardiovascular    0.614819  0.610321  0.617647  0.5  0.695378\n",
      "Infectious        0.583137  0.588133  0.582090  0.5  0.713475\n",
      "Respiratory       0.564237  0.661132  0.666667  0.5  0.811993\n",
      "Integumentary     0.559674  0.593870  0.600000  0.5  0.601992\n",
      "Ophthalmological  0.583121  0.656489  0.666667  0.5  0.754877\n",
      "Procedural        0.564416  0.598719  0.587960  0.5  0.733327\n",
      "Otic              0.583985  0.666222  0.651163  0.5  0.806310\n",
      "\n",
      "NB        0.598009\n",
      "DT        0.611422\n",
      "RF        0.605361\n",
      "SVC       0.500000\n",
      "LinReg    0.693991\n",
      "dtype: float64\n",
      "\n",
      "Disease\n",
      "Musculoskeletal     0.602107\n",
      "Positive            0.590173\n",
      "Development         0.637264\n",
      "Metabolic           0.631480\n",
      "Neoplastic          0.650472\n",
      "Digestive           0.606677\n",
      "Negative            0.675729\n",
      "Urinary             0.629187\n",
      "PNS                 0.714057\n",
      "Endocrine           0.477416\n",
      "Immune              0.638625\n",
      "Reproductive        0.601177\n",
      "Hematologic         0.610094\n",
      "Cardiovascular      0.634541\n",
      "Infectious          0.616709\n",
      "Respiratory         0.676007\n",
      "Integumentary       0.588884\n",
      "Ophthalmological    0.665288\n",
      "Procedural          0.621106\n",
      "Otic                0.676920\n",
      "dtype: float64\n"
     ]
    }
   ],
   "source": [
    "'''\n",
    "Result of the above function, ignoring SVC because of weird values. Using csv because it takes ages to run\n",
    "'''\n",
    "simple_aucs = pd.read_csv('general_auc_analysis.csv', index_col = 'Disease')\n",
    "print(simple_aucs)\n",
    "print()\n",
    "print(simple_aucs.mean())\n",
    "print()\n",
    "print(simple_aucs.drop('SVC', axis = 1).mean(axis = 1))"
   ]
  },
  {
   "cell_type": "code",
   "execution_count": 6,
   "metadata": {},
   "outputs": [],
   "source": [
    "def merge():\n",
    "    merged = pd.DataFrame()\n",
    "\n",
    "    for fname in os.listdir('data'):\n",
    "        if '.' in fname or '_' in fname or fname in ['Positive', 'Negative']:\n",
    "            pass\n",
    "\n",
    "        else:\n",
    "            print(fname)\n",
    "            new = read_file('data/' + fname)\n",
    "\n",
    "            merged = pd.concat([merged, new], sort = True)\n",
    "    \n",
    "    return merged"
   ]
  },
  {
   "cell_type": "code",
   "execution_count": null,
   "metadata": {},
   "outputs": [
    {
     "name": "stdout",
     "output_type": "stream",
     "text": [
      "Musculoskeletal\n",
      "Development\n",
      "Metabolic\n",
      "Neoplastic\n",
      "Hepatic\n",
      "Digestive\n",
      "Urinary\n",
      "PNS\n",
      "Endocrine\n",
      "Immune\n",
      "Reproductive\n",
      "Hematologic\n",
      "Cardiovascular\n",
      "Infectious\n",
      "Respiratory\n",
      "Integumentary\n",
      "Ophthalmological\n",
      "Procedural\n"
     ]
    }
   ],
   "source": [
    "merged = merge()"
   ]
  },
  {
   "cell_type": "code",
   "execution_count": null,
   "metadata": {},
   "outputs": [],
   "source": []
  }
 ],
 "metadata": {
  "kernelspec": {
   "display_name": "Python 3",
   "language": "python",
   "name": "python3"
  },
  "language_info": {
   "codemirror_mode": {
    "name": "ipython",
    "version": 3
   },
   "file_extension": ".py",
   "mimetype": "text/x-python",
   "name": "python",
   "nbconvert_exporter": "python",
   "pygments_lexer": "ipython3",
   "version": "3.7.2"
  }
 },
 "nbformat": 4,
 "nbformat_minor": 2
}
