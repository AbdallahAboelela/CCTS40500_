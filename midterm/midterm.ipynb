{
 "cells": [
  {
   "cell_type": "markdown",
   "metadata": {},
   "source": [
    "# CCTS 40500: ML Midterm\n",
    "### Abdallah Aboelela"
   ]
  },
  {
   "cell_type": "markdown",
   "metadata": {},
   "source": [
    "To do:\n",
    "1. Go through first run through csv and figure out which models are best to use\n",
    "2. Create master df merged on id values\n",
    "3. Consider only first x weeks of a child's life\n",
    "4. Add fraction of time sick in first 6 months, 2 years, overall (with different diseases?)"
   ]
  },
  {
   "cell_type": "code",
   "execution_count": 64,
   "metadata": {},
   "outputs": [],
   "source": [
    "import pandas as pd \n",
    "import numpy as np\n",
    "import os\n",
    "import csv\n",
    "\n",
    "from sklearn.model_selection import train_test_split\n",
    "from sklearn.naive_bayes import GaussianNB\n",
    "from sklearn.tree import DecisionTreeClassifier\n",
    "from sklearn.ensemble import RandomForestClassifier\n",
    "from sklearn.svm import SVC\n",
    "from sklearn.linear_model import LinearRegression\n",
    "from sklearn.metrics import roc_auc_score\n",
    "from sklearn.preprocessing import LabelEncoder"
   ]
  },
  {
   "cell_type": "markdown",
   "metadata": {},
   "source": [
    "# Questions A/B\n",
    "#### Predict POS for Males and Females using infectious disease history\n",
    "\n",
    "Here, we will attempt to predict POS using four models (Decision Tree, Random Forest, Naive Bayes, and Linear Regression, and based on the AUC and ROC curve create a model that randomly chooses between them."
   ]
  },
  {
   "cell_type": "code",
   "execution_count": 73,
   "metadata": {},
   "outputs": [
    {
     "name": "stdout",
     "output_type": "stream",
     "text": [
      "['F', 'M']\n"
     ]
    }
   ],
   "source": [
    "# Contains cols sex, diagnosis, state, county, proportion of time, function in appendix\n",
    "infectious = read_file('data/Infectious') "
   ]
  },
  {
   "cell_type": "code",
   "execution_count": 74,
   "metadata": {},
   "outputs": [],
   "source": [
    "#  Using label encoder values printed above to filter by gender\n",
    "infectious_m = infectious[infectious.sex == 1]\n",
    "infectious_f = infectious[infectious.sex == 0]\n",
    "\n",
    "mX_train, mX_test, my_train, my_test = train_test_split(infectious_m.iloc[:, 1:].drop('diagnosis', axis = 1), \n",
    "                                                        infectious_m.diagnosis, random_state = 42)\n",
    "\n",
    "fX_train, fX_test, fy_train, fy_test = train_test_split(infectious_f.iloc[:, 1:].drop('diagnosis', axis = 1), \n",
    "                                                        infectious_f.diagnosis, random_state = 42)"
   ]
  },
  {
   "cell_type": "code",
   "execution_count": 75,
   "metadata": {},
   "outputs": [],
   "source": [
    "nb = GaussianNB()\n",
    "dt = DecisionTreeClassifier()\n",
    "rf = RandomForestClassifier(n_estimators = 100)\n",
    "reg = LinearRegression()\n",
    "\n",
    "classifiers = [nb, dt, rf, reg]\n",
    "names = ['NB', 'DT', 'RF', 'LinReg']\n",
    "\n",
    "cols = ['clf','M', 'F']\n",
    "rows = []\n",
    "\n",
    "for i, clf in enumerate(classifiers):\n",
    "    clf.fit(mX_train, my_train)\n",
    "    y_pred = clf.predict(mX_test)\n",
    "    m_auc = roc_auc_score(my_test, y_pred)\n",
    "    \n",
    "    clf.fit(fX_train, fy_train)\n",
    "    y_pred = clf.predict(fX_test)\n",
    "    f_auc = roc_auc_score(fy_test, y_pred)\n",
    "    \n",
    "    rows.append([names[i], m_auc, f_auc])\n",
    "\n",
    "infectious_clfs = pd.DataFrame(rows, columns = cols).set_index('clf')"
   ]
  },
  {
   "cell_type": "code",
   "execution_count": 76,
   "metadata": {},
   "outputs": [
    {
     "data": {
      "text/html": [
       "<div>\n",
       "<style scoped>\n",
       "    .dataframe tbody tr th:only-of-type {\n",
       "        vertical-align: middle;\n",
       "    }\n",
       "\n",
       "    .dataframe tbody tr th {\n",
       "        vertical-align: top;\n",
       "    }\n",
       "\n",
       "    .dataframe thead th {\n",
       "        text-align: right;\n",
       "    }\n",
       "</style>\n",
       "<table border=\"1\" class=\"dataframe\">\n",
       "  <thead>\n",
       "    <tr style=\"text-align: right;\">\n",
       "      <th></th>\n",
       "      <th>M</th>\n",
       "      <th>F</th>\n",
       "    </tr>\n",
       "    <tr>\n",
       "      <th>clf</th>\n",
       "      <th></th>\n",
       "      <th></th>\n",
       "    </tr>\n",
       "  </thead>\n",
       "  <tbody>\n",
       "    <tr>\n",
       "      <th>NB</th>\n",
       "      <td>0.582018</td>\n",
       "      <td>0.592048</td>\n",
       "    </tr>\n",
       "    <tr>\n",
       "      <th>DT</th>\n",
       "      <td>0.606570</td>\n",
       "      <td>0.675583</td>\n",
       "    </tr>\n",
       "    <tr>\n",
       "      <th>RF</th>\n",
       "      <td>0.596939</td>\n",
       "      <td>0.678571</td>\n",
       "    </tr>\n",
       "    <tr>\n",
       "      <th>LinReg</th>\n",
       "      <td>0.680163</td>\n",
       "      <td>0.713307</td>\n",
       "    </tr>\n",
       "  </tbody>\n",
       "</table>\n",
       "</div>"
      ],
      "text/plain": [
       "               M         F\n",
       "clf                       \n",
       "NB      0.582018  0.592048\n",
       "DT      0.606570  0.675583\n",
       "RF      0.596939  0.678571\n",
       "LinReg  0.680163  0.713307"
      ]
     },
     "execution_count": 76,
     "metadata": {},
     "output_type": "execute_result"
    }
   ],
   "source": [
    "infectious_clfs"
   ]
  },
  {
   "cell_type": "markdown",
   "metadata": {},
   "source": [
    "Across the board, we can see that it is easier to predict autism diagnosis for women than it is for men, and that a linear regression is particularly good, and crosses the 65% AUC boundry in both cases. Decision Tree and Random Forest also work well for women."
   ]
  },
  {
   "cell_type": "markdown",
   "metadata": {},
   "source": [
    "# Questions C/D/E\n",
    "#### Predict POS for Males/Females using any/all combination of diseases\n",
    "Strategy: Run the four predictive methods separately by gender, disease, and number of weeks considered, to identify which are best. Then, we will combine the most useful diseases into one merged df on c_id, and create a combined classifier that chooses between the best classifiers."
   ]
  },
  {
   "cell_type": "code",
   "execution_count": null,
   "metadata": {},
   "outputs": [],
   "source": [
    "for fname in os.listdir('data'):\n",
    "    if fname not in ['Positive', 'Negative']:\n",
    "        disease, le = read_file('data/' + fname)\n",
    "        disease_m = disease\n",
    "        \n",
    "        mX_train, mX_test, my_train, my_test = train_test_split(disease_m.iloc[:, 1:].drop('diagnosis', axis = 1), \n",
    "                                                        disease_m.diagnosis, random_state = 42)\n",
    "\n",
    "        fX_train, fX_test, fy_train, fy_test = train_test_split(disease_f.iloc[:, 1:].drop('diagnosis', axis = 1), \n",
    "                                                        disease_f.diagnosis, random_state = 42)\n",
    "        for i, clf in enumerate(classifiers):\n",
    "            clf.fit(mX_train, my_train)\n",
    "            y_pred = clf.predict(mX_test)\n",
    "            m_auc = roc_auc_score(my_test, y_pred)\n",
    "\n",
    "            clf.fit(fX_train, fy_train)\n",
    "            y_pred = clf.predict(fX_test)\n",
    "            f_auc = roc_auc_score(fy_test, y_pred)\n",
    "\n",
    "            rows.append([names[i], m_auc, f_auc])\n",
    "\n",
    "infectious_clfs = pd.DataFrame(rows, columns = cols).set_index('clf')"
   ]
  },
  {
   "cell_type": "code",
   "execution_count": null,
   "metadata": {},
   "outputs": [],
   "source": []
  },
  {
   "cell_type": "code",
   "execution_count": null,
   "metadata": {},
   "outputs": [],
   "source": []
  },
  {
   "cell_type": "code",
   "execution_count": null,
   "metadata": {},
   "outputs": [],
   "source": []
  },
  {
   "cell_type": "code",
   "execution_count": null,
   "metadata": {},
   "outputs": [],
   "source": []
  },
  {
   "cell_type": "markdown",
   "metadata": {},
   "source": [
    "Below is the result of a function that applied Naive Bayes, Decision Tree, Random Forest, SVC, and Linear Regression models to ea"
   ]
  },
  {
   "cell_type": "code",
   "execution_count": 5,
   "metadata": {
    "scrolled": false
   },
   "outputs": [
    {
     "name": "stdout",
     "output_type": "stream",
     "text": [
      "                        NB        DT        RF  SVC    LinReg\n",
      "Disease                                                      \n",
      "Musculoskeletal   0.599812  0.605690  0.600000  0.5  0.602927\n",
      "Positive          0.599433  0.626699  0.578947  0.5  0.555611\n",
      "Development       0.569473  0.627991  0.617021  0.5  0.734572\n",
      "Metabolic         0.566709  0.594859  0.555556  0.5  0.808795\n",
      "Neoplastic        0.703814  0.589567  0.590909  0.5  0.717596\n",
      "Digestive         0.553241  0.624882  0.588235  0.5  0.660349\n",
      "Negative          0.670250  0.624723  0.616438  0.5  0.791504\n",
      "Urinary           0.785251  0.494327  0.666667  0.5  0.570502\n",
      "PNS               0.608439  0.728929  0.735294  0.5  0.783565\n",
      "Endocrine         0.489496  0.491597  0.500000  0.5  0.428571\n",
      "Immune            0.576491  0.645830  0.623457  0.5  0.708723\n",
      "Reproductive      0.542819  0.619301  0.562500  0.5  0.680087\n",
      "Hematologic       0.641562  0.579149  0.500000  0.5  0.719665\n",
      "Cardiovascular    0.614819  0.610321  0.617647  0.5  0.695378\n",
      "Infectious        0.583137  0.588133  0.582090  0.5  0.713475\n",
      "Respiratory       0.564237  0.661132  0.666667  0.5  0.811993\n",
      "Integumentary     0.559674  0.593870  0.600000  0.5  0.601992\n",
      "Ophthalmological  0.583121  0.656489  0.666667  0.5  0.754877\n",
      "Procedural        0.564416  0.598719  0.587960  0.5  0.733327\n",
      "Otic              0.583985  0.666222  0.651163  0.5  0.806310\n",
      "\n",
      "NB        0.598009\n",
      "DT        0.611422\n",
      "RF        0.605361\n",
      "SVC       0.500000\n",
      "LinReg    0.693991\n",
      "dtype: float64\n",
      "\n",
      "Disease\n",
      "Musculoskeletal     0.602107\n",
      "Positive            0.590173\n",
      "Development         0.637264\n",
      "Metabolic           0.631480\n",
      "Neoplastic          0.650472\n",
      "Digestive           0.606677\n",
      "Negative            0.675729\n",
      "Urinary             0.629187\n",
      "PNS                 0.714057\n",
      "Endocrine           0.477416\n",
      "Immune              0.638625\n",
      "Reproductive        0.601177\n",
      "Hematologic         0.610094\n",
      "Cardiovascular      0.634541\n",
      "Infectious          0.616709\n",
      "Respiratory         0.676007\n",
      "Integumentary       0.588884\n",
      "Ophthalmological    0.665288\n",
      "Procedural          0.621106\n",
      "Otic                0.676920\n",
      "dtype: float64\n"
     ]
    }
   ],
   "source": [
    "simple_aucs = pd.read_csv('general_auc_analysis.csv', index_col = 'Disease')\n",
    "print(simple_aucs)\n",
    "print()\n",
    "print(simple_aucs.mean())\n",
    "print()\n",
    "print(simple_aucs.drop('SVC', axis = 1).mean(axis = 1))"
   ]
  },
  {
   "cell_type": "code",
   "execution_count": null,
   "metadata": {},
   "outputs": [
    {
     "name": "stdout",
     "output_type": "stream",
     "text": [
      "Musculoskeletal\n",
      "Development\n",
      "Metabolic\n",
      "Neoplastic\n",
      "Hepatic\n",
      "Digestive\n",
      "Urinary\n",
      "PNS\n",
      "Endocrine\n",
      "Immune\n",
      "Reproductive\n",
      "Hematologic\n",
      "Cardiovascular\n",
      "Infectious\n",
      "Respiratory\n",
      "Integumentary\n",
      "Ophthalmological\n",
      "Procedural\n"
     ]
    }
   ],
   "source": [
    "merged = merge()"
   ]
  },
  {
   "cell_type": "markdown",
   "metadata": {},
   "source": [
    "# Appendix"
   ]
  },
  {
   "cell_type": "code",
   "execution_count": 72,
   "metadata": {},
   "outputs": [],
   "source": [
    "'''\n",
    "Takes a disease file, and reads into a pandas dataframe.\n",
    "Creates from values: gender, diagnosis, state, and county\n",
    "'''\n",
    "def read_file(fname, new_features = False):\n",
    "    with open(fname) as f:\n",
    "        content = f.readlines()\n",
    "    \n",
    "    content = [x.strip().split(' ') for x in content]\n",
    "\n",
    "    max_cols = 0\n",
    "    for i, line in enumerate(content):\n",
    "        max_cols = max(max_cols, len(line))\n",
    "\n",
    "    name = fname[5:]\n",
    "\n",
    "    columns = ['p_id', 'c_id'] + [name + str(i) for i in range(max_cols - 2)]\n",
    "\n",
    "    df = pd.read_csv(fname, names = columns, engine = 'python', \n",
    "        delim_whitespace = True, index_col = 'c_id')\n",
    "\n",
    "    df['sex'] = df.p_id.apply(lambda x: x[0])\n",
    "    df['diagnosis'] = df.p_id.apply(lambda x: x[1:4])\n",
    "    df['state'] = df.p_id.apply(lambda x: x[4:6])\n",
    "    df['county'] = df.p_id.apply(lambda x: x[6:9])\n",
    "    \n",
    "    end_cols = 0\n",
    "    if new_features:\n",
    "        # Using sum overweights other diseases but generally proportional\n",
    "        df['total'] = df.iloc[:, 1:df.shape[1]-4].sum(axis = 1)\n",
    "        df['6mos'] = df.iloc[:, 1:28].sum(axis = 1)\n",
    "        df['1y'] = df.iloc[:, 1:53].sum(axis = 1)\n",
    "        df['2y'] = df.iloc[:, 1:105].sum(axis = 1)\n",
    "        \n",
    "        end_cols = 4\n",
    "    \n",
    "    df = df.replace(np.nan, -1)\n",
    "\n",
    "    for col in df.columns[1:df.shape[1]-end_cols]:\n",
    "        le = LabelEncoder()\n",
    "        le = le.fit(df[col])\n",
    "        \n",
    "        df[col] = le.transform(df[col])\n",
    "        \n",
    "        if col == 'sex':\n",
    "            print(list(le.classes_))\n",
    "        \n",
    "    return df"
   ]
  },
  {
   "cell_type": "code",
   "execution_count": null,
   "metadata": {},
   "outputs": [],
   "source": []
  },
  {
   "cell_type": "code",
   "execution_count": null,
   "metadata": {},
   "outputs": [],
   "source": []
  },
  {
   "cell_type": "code",
   "execution_count": null,
   "metadata": {},
   "outputs": [],
   "source": []
  },
  {
   "cell_type": "code",
   "execution_count": null,
   "metadata": {},
   "outputs": [],
   "source": []
  },
  {
   "cell_type": "code",
   "execution_count": null,
   "metadata": {},
   "outputs": [],
   "source": []
  },
  {
   "cell_type": "code",
   "execution_count": null,
   "metadata": {},
   "outputs": [],
   "source": []
  }
 ],
 "metadata": {
  "kernelspec": {
   "display_name": "Python 3",
   "language": "python",
   "name": "python3"
  },
  "language_info": {
   "codemirror_mode": {
    "name": "ipython",
    "version": 3
   },
   "file_extension": ".py",
   "mimetype": "text/x-python",
   "name": "python",
   "nbconvert_exporter": "python",
   "pygments_lexer": "ipython3",
   "version": "3.6.5"
  }
 },
 "nbformat": 4,
 "nbformat_minor": 2
}
